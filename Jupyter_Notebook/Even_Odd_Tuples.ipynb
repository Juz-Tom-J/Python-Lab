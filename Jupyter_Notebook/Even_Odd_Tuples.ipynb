{
 "cells": [
  {
   "cell_type": "code",
   "execution_count": 1,
   "id": "002a251b",
   "metadata": {},
   "outputs": [
    {
     "name": "stdout",
     "output_type": "stream",
     "text": [
      "Enter the numbers: 1 2 3 4 5 6 7 8 9 10\n",
      "Enter the limit:  (1, 2, 3, 4, 5, 6, 7, 8, 9, 10)\n",
      "Odd numbers:  (1, 3, 5, 7, 9)\n",
      "Even numbers:  (2, 4, 6, 8, 10)\n"
     ]
    }
   ],
   "source": [
    "x = tuple(map(int,input(\"Enter the numbers: \").split()))\n",
    "odd_numbers = []\n",
    "even_numbers = []\n",
    "print(\"Enter the limit: \",x)\n",
    "for i in range(len(x)):\n",
    "    if(x[i]%2==0):\n",
    "        even_numbers.append(x[i])\n",
    "    else:\n",
    "        odd_numbers.append(x[i])\n",
    "print(\"Odd numbers: \",tuple(odd_numbers))\n",
    "print(\"Even numbers: \",tuple(even_numbers))"
   ]
  },
  {
   "cell_type": "code",
   "execution_count": null,
   "id": "2175ab31",
   "metadata": {},
   "outputs": [],
   "source": []
  }
 ],
 "metadata": {
  "kernelspec": {
   "display_name": "Python 3 (ipykernel)",
   "language": "python",
   "name": "python3"
  },
  "language_info": {
   "codemirror_mode": {
    "name": "ipython",
    "version": 3
   },
   "file_extension": ".py",
   "mimetype": "text/x-python",
   "name": "python",
   "nbconvert_exporter": "python",
   "pygments_lexer": "ipython3",
   "version": "3.10.5"
  }
 },
 "nbformat": 4,
 "nbformat_minor": 5
}
