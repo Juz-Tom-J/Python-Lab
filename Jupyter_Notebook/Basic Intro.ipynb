{
 "cells": [
  {
   "cell_type": "code",
   "execution_count": 1,
   "id": "f2e3f351",
   "metadata": {},
   "outputs": [],
   "source": [
    "a = 1 # assign a value of 1 to the variable a\n"
   ]
  },
  {
   "cell_type": "code",
   "execution_count": 2,
   "id": "ddf34215",
   "metadata": {},
   "outputs": [
    {
     "data": {
      "text/plain": [
       "1"
      ]
     },
     "execution_count": 2,
     "metadata": {},
     "output_type": "execute_result"
    }
   ],
   "source": [
    "a"
   ]
  },
  {
   "cell_type": "code",
   "execution_count": 3,
   "id": "9cfe1927",
   "metadata": {},
   "outputs": [],
   "source": [
    "#Commenting is a good programming practice"
   ]
  },
  {
   "cell_type": "code",
   "execution_count": 6,
   "id": "a2ab2c4b",
   "metadata": {},
   "outputs": [
    {
     "name": "stdout",
     "output_type": "stream",
     "text": [
      "Enter the no. for factorial: 5\n",
      "Factorial:  1\n",
      "Factorial:  2\n",
      "Factorial:  3\n",
      "Factorial:  4\n",
      "Factorial:  5\n"
     ]
    }
   ],
   "source": [
    "n = int(input(\"Enter the no. for factorial: \"))\n",
    "if(n<0):\n",
    "    print(\"No factorial for negative numbers\")\n",
    "elif(n==0):\n",
    "    print(\"Factorial is 1\")\n",
    "else:\n",
    "    fact = \n",
    "    for i in range(1,n+1):\n",
    "        fact = fact*i\n",
    "        print(\"Factorial: \",fact)"
   ]
  },
  {
   "cell_type": "code",
   "execution_count": null,
   "id": "8dd096c3",
   "metadata": {},
   "outputs": [],
   "source": []
  }
 ],
 "metadata": {
  "kernelspec": {
   "display_name": "Python 3 (ipykernel)",
   "language": "python",
   "name": "python3"
  },
  "language_info": {
   "codemirror_mode": {
    "name": "ipython",
    "version": 3
   },
   "file_extension": ".py",
   "mimetype": "text/x-python",
   "name": "python",
   "nbconvert_exporter": "python",
   "pygments_lexer": "ipython3",
   "version": "3.10.5"
  }
 },
 "nbformat": 4,
 "nbformat_minor": 5
}
