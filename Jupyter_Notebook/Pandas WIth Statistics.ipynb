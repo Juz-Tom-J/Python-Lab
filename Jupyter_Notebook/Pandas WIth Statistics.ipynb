{
 "cells": [
  {
   "cell_type": "code",
   "execution_count": 2,
   "id": "80fc0866",
   "metadata": {},
   "outputs": [
    {
     "name": "stdout",
     "output_type": "stream",
     "text": [
      "Overall Mean mark:  37.3765 \n",
      "\n",
      "Male's Mean mark: 33.6667\n",
      "Male's Highest mark: 47\n",
      "Male's Lowest mark: 0\n",
      "\n",
      "Female's Mean mark: 41.55\n",
      "Female's Highest mark: 47\n",
      "Female's Lowest mark: 33\n",
      "\n"
     ]
    },
    {
     "data": {
      "image/png": "[encoded data removed]",
      "text/plain": [
       "<Figure size 432x288 with 1 Axes>"
      ]
     },
     "metadata": {
      "needs_background": "light"
     },
     "output_type": "display_data"
    },
    {
     "name": "stdout",
     "output_type": "stream",
     "text": [
      "Females's mean mark, 41.55 > Male's mean mark, 33.6667\n",
      "\n",
      "Therefore, both Mathematically & Graphically \u001b[1mFemales are better performers.\u001b[0m\n"
     ]
    }
   ],
   "source": [
    "import matplotlib.pyplot as plt\n",
    "import pandas as pd\n",
    "\n",
    "df = pd.read_csv('ADL_202_ex.csv') # Opening CSV File\n",
    "\n",
    "OvMean = df['Mark'].mean() # Mean of whole Dataset\n",
    "print(\"Overall Mean mark: \", round(OverallMean, 4), \"\\n\")\n",
    "\n",
    "# Mean Line Plotting\n",
    "X_Axis = df['Sl No']\n",
    "Y_Axis = [OvMean] * len(X_Axis)\n",
    "plt.plot(X_Axis, Y_Axis, color='green', linestyle='dotted', label='Mean Line')\n",
    "\n",
    "# ------------------------------------------------------------------------------------------------------------------------- #\n",
    "\n",
    "# MALE DATA MANIPULATION\n",
    "mData = df.loc[df['Gender'] == 'm'] # Separating Male's Data\n",
    "mMean = mData['Mark'].mean() # Male's mean mark\n",
    "mLowMark = mData['Mark'].min() # Male's min mark\n",
    "mHighMark = mData['Mark'].max() # Male's max mark\n",
    "\n",
    "# Printing Male's mark Details\n",
    "print(f\"Male's Mean mark: {round(mMean, 4)}\\nMale's Highest mark: {mHighMark}\\nMale's Lowest mark: {mLowMark}\\n\")\n",
    "\n",
    "# Male max mark plotting\n",
    "mHighers = df.loc[(df['Mark'] == mHighMark) & ( df['Gender'] == 'm')] # Male's max marks for graph plotting\n",
    "plt.scatter(mHighers['Sl No'], mHighers['Mark'], marker='x', facecolor='green', label=\"Male's Highest Marks\") # Scatter Plotting\n",
    "\n",
    "# Male min mark plotting\n",
    "mLowers = df.loc[(df['Mark'] == mLowMark) & ( df['Gender'] == 'm')] # Male's min marks for graph plotting\n",
    "plt.scatter(mLowers['Sl No'], mLowers['Mark'], marker='.', facecolor='red', label=\"Male's Lowest Mark\") # Scatter Plotting\n",
    "\n",
    "# ------------------------------------------------------------------------------------------------------------------------- #\n",
    " \n",
    "# FEMALE DATA MANIPULATION\n",
    "fData = df.loc[df['Gender'] == 'f'] # Separating Female's Data\n",
    "fMean = fData['Mark'].mean() # Female's mean mark\n",
    "fLowMark = fData['Mark'].min() # Female's min mark\n",
    "fHighMark = fData['Mark'].max() # Female's max mark\n",
    "\n",
    "# Printing Female's mark Details\n",
    "print(f\"Female's Mean mark: {fMean}\\nFemale's Highest mark: {fHighMark}\\nFemale's Lowest mark: {fLowMark}\\n\")\n",
    "\n",
    "# Female's max mark plotting\n",
    "fHighers = df.loc[(df['Mark'] == fHighMark) & ( df['Gender'] == 'f')] # Female's max marks for graph plotting\n",
    "plt.scatter(fHighers['Sl No'], fHighers['Mark'], marker='x', facecolor='blue', label=\"Female's Highest Marks\") # Scatter Plotting\n",
    "\n",
    "# Female's min mark plotting\n",
    "fLowers = df.loc[(df['Mark'] == fLowMark) & ( df['Gender'] == 'f')] # Female's min marks for graph plotting\n",
    "plt.scatter(fLowers['Sl No'], fLowers['Mark'], marker='o', facecolor='orange', label=\"Female's Lowest Mark\") # Scatter Plotting\n",
    "\n",
    "# ------------------------------------------------------------------------------------------------------------------------- #\n",
    "\n",
    "plt.xlabel(\"Serial Number\")\n",
    "plt.ylabel(\"Marks\")\n",
    "\n",
    "# Key Box\n",
    "plt.legend(bbox_to_anchor = (1.5 , 1.03))\n",
    "\n",
    "plt.show() # Displaying the Graph\n",
    "\n",
    "# RESULT\n",
    "print(f\"Females's mean mark, {fMean} > Male's mean mark, {round(mMean, 4)}\\n\")\n",
    "print(\"Therefore, both Mathematically & Graphically\", '\\033[1m' + 'Females are better performers.' + '\\033[0m')"
   ]
  },
  {
   "cell_type": "code",
   "execution_count": null,
   "id": "dbae2276",
   "metadata": {},
   "outputs": [],
   "source": []
  }
 ],
 "metadata": {
  "kernelspec": {
   "display_name": "Python 3 (ipykernel)",
   "language": "python",
   "name": "python3"
  },
  "language_info": {
   "codemirror_mode": {
    "name": "ipython",
    "version": 3
   },
   "file_extension": ".py",
   "mimetype": "text/x-python",
   "name": "python",
   "nbconvert_exporter": "python",
   "pygments_lexer": "ipython3",
   "version": "3.10.5"
  }
 },
 "nbformat": 4,
 "nbformat_minor": 5
}
