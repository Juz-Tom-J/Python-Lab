{
 "cells": [
  {
   "cell_type": "code",
   "execution_count": 37,
   "metadata": {},
   "outputs": [
    {
     "name": "stdout",
     "output_type": "stream",
     "text": [
      "44\n"
     ]
    }
   ],
   "source": [
    "import random\n",
    "x = random.randint(0,50)\n",
    "print(x)"
   ]
  },
  {
   "cell_type": "code",
   "execution_count": 38,
   "metadata": {},
   "outputs": [
    {
     "name": "stdout",
     "output_type": "stream",
     "text": [
      "COIN TOSS\n",
      "Tail\n"
     ]
    }
   ],
   "source": [
    "import random\n",
    "\n",
    "print(\"COIN TOSS\")\n",
    "\n",
    "t = random.randint(0,1)\n",
    "\n",
    "if t==1:\n",
    "    print(\"Head\")\n",
    "else:\n",
    "    print(\"Tail\")"
   ]
  },
  {
   "cell_type": "code",
   "execution_count": 47,
   "metadata": {},
   "outputs": [
    {
     "name": "stdout",
     "output_type": "stream",
     "text": [
      "COIN TOSS\n",
      "Enter the value for number of tosses: 5\n",
      "Toss 1 showed head\n",
      "Toss 2 showed tail\n",
      "Toss 3 showed head\n",
      "Toss 4 showed tail\n",
      "Toss 5 showed tail\n",
      "Number of heads occuring =  2\n",
      "Probability of getting heads =  0.4\n"
     ]
    }
   ],
   "source": [
    "import random as r\n",
    "\n",
    "print(\"COIN TOSS\")\n",
    "occ_list = []\n",
    "\n",
    "def toss(n):\n",
    "    occ = 0\n",
    "    for i in range(0,n):\n",
    "        occ_list.append(r.randint(0,1))\n",
    "        if (occ_list[i] == 1): \n",
    "            occ+= 1\n",
    "            print(\"Toss %d showed head\"%(i+1))\n",
    "        else:\n",
    "            print(\"Toss %d showed tail\"%(i+1))\n",
    "    return occ,occ/n\n",
    "\n",
    "\n",
    "option = int(input(\"Enter the value for number of tosses: \"))\n",
    "heads,prob = toss(option)\n",
    "print(\"Number of heads occuring = \",heads)\n",
    "print(\"Probability of getting heads = \",prob)"
   ]
  },
  {
   "cell_type": "code",
   "execution_count": null,
   "metadata": {},
   "outputs": [],
   "source": []
  }
 ],
 "metadata": {
  "kernelspec": {
   "display_name": "Python 3",
   "language": "python",
   "name": "python3"
  },
  "language_info": {
   "codemirror_mode": {
    "name": "ipython",
    "version": 3
   },
   "file_extension": ".py",
   "mimetype": "text/x-python",
   "name": "python",
   "nbconvert_exporter": "python",
   "pygments_lexer": "ipython3",
   "version": "3.6.9"
  }
 },
 "nbformat": 4,
 "nbformat_minor": 2
}
