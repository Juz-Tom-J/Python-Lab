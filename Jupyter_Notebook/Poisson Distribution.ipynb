{
 "cells": [
  {
   "cell_type": "code",
   "execution_count": 1,
   "id": "2f2fb0ac",
   "metadata": {},
   "outputs": [
    {
     "name": "stdout",
     "output_type": "stream",
     "text": [
      "Enter the value for average: 5\n",
      "Enter the value for no. of occurences: 4\n",
      "Poisson value:  0.17546795991185907\n"
     ]
    }
   ],
   "source": [
    "def checkFact(n):\n",
    "    fact = 1\n",
    "    for i in range(1, n+1):\n",
    "        fact = fact*i\n",
    "    return fact\n",
    "\n",
    "l = float(input(\"Enter the value for average: \"))\n",
    "x = int(input(\"Enter the value for no. of occurences: \"))\n",
    "e = 2.71828\n",
    "\n",
    "num = (pow(l,x))*(pow(e,-l))\n",
    "den = checkFact(x)\n",
    "poisson = float(num/den)\n",
    "print(\"Poisson value: \",poisson)"
   ]
  },
  {
   "cell_type": "code",
   "execution_count": null,
   "id": "67b73ebb",
   "metadata": {},
   "outputs": [],
   "source": []
  },
  {
   "cell_type": "code",
   "execution_count": null,
   "id": "59c95f28",
   "metadata": {},
   "outputs": [],
   "source": []
  }
 ],
 "metadata": {
  "kernelspec": {
   "display_name": "Python 3 (ipykernel)",
   "language": "python",
   "name": "python3"
  },
  "language_info": {
   "codemirror_mode": {
    "name": "ipython",
    "version": 3
   },
   "file_extension": ".py",
   "mimetype": "text/x-python",
   "name": "python",
   "nbconvert_exporter": "python",
   "pygments_lexer": "ipython3",
   "version": "3.10.5"
  }
 },
 "nbformat": 4,
 "nbformat_minor": 5
}
