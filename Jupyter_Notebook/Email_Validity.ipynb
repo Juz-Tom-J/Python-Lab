{
 "cells": [
  {
   "cell_type": "code",
   "execution_count": 1,
   "id": "ceed2363",
   "metadata": {},
   "outputs": [
    {
     "name": "stdout",
     "output_type": "stream",
     "text": [
      "Enter the email: justinthomas@gmail.com\n",
      "Valid email\n"
     ]
    }
   ],
   "source": [
    "e = input('Enter the email: ')\n",
    "m = e.split(\"@\")\n",
    "domain = [\"gmail.com\",\"yahoo.com\",\"outlook.com\"]\n",
    "\n",
    "for i  in m:\n",
    "    for j in domain:\n",
    "        if (i==j):\n",
    "            flag = 1\n",
    "            print(\"Valid email\")\n",
    "            break\n",
    "        else:\n",
    "            flag = 0\n",
    "\n",
    "if (flag==0):\n",
    "    print(\"Invalid email\")"
   ]
  },
  {
   "cell_type": "code",
   "execution_count": null,
   "id": "91eb1190",
   "metadata": {},
   "outputs": [],
   "source": []
  }
 ],
 "metadata": {
  "kernelspec": {
   "display_name": "Python 3 (ipykernel)",
   "language": "python",
   "name": "python3"
  },
  "language_info": {
   "codemirror_mode": {
    "name": "ipython",
    "version": 3
   },
   "file_extension": ".py",
   "mimetype": "text/x-python",
   "name": "python",
   "nbconvert_exporter": "python",
   "pygments_lexer": "ipython3",
   "version": "3.10.5"
  }
 },
 "nbformat": 4,
 "nbformat_minor": 5
}
