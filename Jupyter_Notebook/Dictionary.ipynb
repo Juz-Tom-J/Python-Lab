{
 "cells": [
  {
   "cell_type": "code",
   "execution_count": 3,
   "id": "a401c2d2",
   "metadata": {},
   "outputs": [
    {
     "name": "stdout",
     "output_type": "stream",
     "text": [
      "\n",
      "1:Add stock\n",
      "2:Delete stock\n",
      "3:To add new book\n",
      "4:Exit\n",
      "Enter your choice: 1\n",
      "{'The Da Vinci Code': 5, 'Wings Of Fire': 3, 'The Alchemist': 4}\n",
      "Enter the  book name: Wings Of Fire\n",
      "Enter the no.of stocks you are adding: 3\n",
      "\n",
      "1:Add stock\n",
      "2:Delete stock\n",
      "3:To add new book\n",
      "4:Exit\n",
      "Enter your choice:2\n",
      "{'The Da Vinci Code': 5, 'Wings Of Fire': 6, 'The Alchemist': 4}\n",
      "Enter the book name: The Da Vinci Code\n",
      "Enter the no.of stocks you are deleting: 1\n",
      "\n",
      "1:Add stock\n",
      "2:Delete stock\n",
      "3:To add new book\n",
      "4:Exit\n",
      "Enter your choice:3\n",
      "{'The Da Vinci Code': 4, 'Wings Of Fire': 6, 'The Alchemist': 4}\n",
      "Enter the book name: Sherlock Holmes\n",
      "Enter the no.of stocks: 5\n",
      "\n",
      "1:Add stock\n",
      "2:Delete stock\n",
      "3:To add new book\n",
      "4:Exit\n",
      "Enter your choice:4\n",
      "{'The Da Vinci Code': 4, 'Wings Of Fire': 6, 'The Alchemist': 4, 'Sherlock Holmes': 5}\n"
     ]
    }
   ],
   "source": [
    "d1 ={\"The Da Vinci Code\": 5,\"Wings Of Fire\": 3,\"The Alchemist\": 4}\n",
    "print(\"\\n1:Add stock\\n2:Delete stock\\n3:To add new book\\n4:Exit\")\n",
    "n=int(input(\"Enter your choice: \"))\n",
    "while(n!=4):\n",
    "    if(n==1):\n",
    "        print(d1)\n",
    "        z=input(\"Enter the  book name: \")\n",
    "        y=int(input(\"Enter the no.of stocks you are adding: \"))\n",
    "        d1[z]=d1[z]+y\n",
    "    elif(n==2):\n",
    "        print(d1)\n",
    "        z=input(\"Enter the book name: \")\n",
    "        y=int(input(\"Enter the no.of stocks you are deleting: \"))\n",
    "        d1[z]=d1[z]-y\n",
    "    else:\n",
    "        print(d1)\n",
    "        z=input(\"Enter the book name: \")\n",
    "        u=int(input(\"Enter the no.of stocks: \"))\n",
    "        d1.update({z:u})\n",
    "    print(\"\\n1:Add stock\\n2:Delete stock\\n3:To add new book\\n4:Exit\")\n",
    "    n=int(input(\"Enter your choice:\"))\n",
    "print(d1)"
   ]
  },
  {
   "cell_type": "code",
   "execution_count": null,
   "id": "39ee875d",
   "metadata": {},
   "outputs": [],
   "source": []
  }
 ],
 "metadata": {
  "kernelspec": {
   "display_name": "Python 3 (ipykernel)",
   "language": "python",
   "name": "python3"
  },
  "language_info": {
   "codemirror_mode": {
    "name": "ipython",
    "version": 3
   },
   "file_extension": ".py",
   "mimetype": "text/x-python",
   "name": "python",
   "nbconvert_exporter": "python",
   "pygments_lexer": "ipython3",
   "version": "3.10.5"
  }
 },
 "nbformat": 4,
 "nbformat_minor": 5
}
