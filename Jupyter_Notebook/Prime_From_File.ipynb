{
 "cells": [
  {
   "cell_type": "code",
   "execution_count": 2,
   "id": "d7c4aa42",
   "metadata": {},
   "outputs": [
    {
     "name": "stdout",
     "output_type": "stream",
     "text": [
      "File contents:  [1, 2, 3, 4, 5, 6, 7, 8, 9]\n",
      "Prime numbers: 2 3 5 7 "
     ]
    }
   ],
   "source": [
    "f = open('f1.txt', 'r+')\n",
    "l = []\n",
    "for i in f:\n",
    "    l.append(int(i))\n",
    "print(\"File contents: \",l)\n",
    "print(\"Prime numbers: \", end=\"\")\n",
    "for j in l:\n",
    "    if j == 0 or j == 1:\n",
    "        continue\n",
    "    for i in range(2, j//2 + 1):\n",
    "        if j % i == 0:\n",
    "            break\n",
    "    else:\n",
    "        print(j, end = \" \")\n",
    "f.close()"
   ]
  },
  {
   "cell_type": "code",
   "execution_count": null,
   "id": "6ee27cb1",
   "metadata": {},
   "outputs": [],
   "source": []
  }
 ],
 "metadata": {
  "kernelspec": {
   "display_name": "Python 3 (ipykernel)",
   "language": "python",
   "name": "python3"
  },
  "language_info": {
   "codemirror_mode": {
    "name": "ipython",
    "version": 3
   },
   "file_extension": ".py",
   "mimetype": "text/x-python",
   "name": "python",
   "nbconvert_exporter": "python",
   "pygments_lexer": "ipython3",
   "version": "3.10.5"
  }
 },
 "nbformat": 4,
 "nbformat_minor": 5
}
