{
 "cells": [
  {
   "cell_type": "code",
   "execution_count": 1,
   "id": "0309febd",
   "metadata": {},
   "outputs": [
    {
     "name": "stdout",
     "output_type": "stream",
     "text": [
      "Enter the string: I love you\n",
      "Enter word to be replaced: you\n",
      "Enter word to replace: SJCET\n",
      " I love SJCET\n"
     ]
    }
   ],
   "source": [
    "s = input('Enter the string: ')\n",
    "s1 = input('Enter word to be replaced: ')\n",
    "w = input('Enter word to replace: ')\n",
    "new = \"\"\n",
    "x = s.split()\n",
    "for i  in x:\n",
    "    if (i==s1):\n",
    "        new=new+\" \"+w\n",
    "    else:\n",
    "        new=new+\" \"+i\n",
    "print(new)"
   ]
  },
  {
   "cell_type": "code",
   "execution_count": null,
   "id": "421c13be",
   "metadata": {},
   "outputs": [],
   "source": []
  }
 ],
 "metadata": {
  "kernelspec": {
   "display_name": "Python 3 (ipykernel)",
   "language": "python",
   "name": "python3"
  },
  "language_info": {
   "codemirror_mode": {
    "name": "ipython",
    "version": 3
   },
   "file_extension": ".py",
   "mimetype": "text/x-python",
   "name": "python",
   "nbconvert_exporter": "python",
   "pygments_lexer": "ipython3",
   "version": "3.10.5"
  }
 },
 "nbformat": 4,
 "nbformat_minor": 5
}
