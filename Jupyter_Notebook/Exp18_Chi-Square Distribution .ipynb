{
 "cells": [
  {
   "cell_type": "code",
   "execution_count": 26,
   "metadata": {},
   "outputs": [
    {
     "name": "stdout",
     "output_type": "stream",
     "text": [
      "Chi-square value:  7.32\n"
     ]
    }
   ],
   "source": [
    "#Program to do Chi-square distribution\n",
    "\n",
    "obs = [50,58,47,48.67] #List of observations\n",
    "exp = 50 #Expected value\n",
    "chi_sq = 0\n",
    "for i in obs:\n",
    "    sq+= pow((i-exp),2)/exp #Calculation of Chi_Square value\n",
    "\n",
    "print(\"Chi-square value: \",chi_sq)"
   ]
  },
  {
   "cell_type": "code",
   "execution_count": 27,
   "metadata": {},
   "outputs": [
    {
     "data": {
      "text/plain": [
       "Power_divergenceResult(statistic=7.3200000000000003, pvalue=0.11991350930483732)"
      ]
     },
     "execution_count": 27,
     "metadata": {},
     "output_type": "execute_result"
    }
   ],
   "source": [
    "import scipy.stats as stats\n",
    "\n",
    "stats.chisquare(obs,exp)"
   ]
  },
  {
   "cell_type": "code",
   "execution_count": 34,
   "metadata": {},
   "outputs": [
    {
     "name": "stdout",
     "output_type": "stream",
     "text": [
      "Expected value for females:  [50.8860759493671, 49.86835443037975, 50.377215189873425, 49.86835443037975]\n",
      "Expected value for males:  [49.11392405063291, 48.131645569620254, 48.62278481012658, 48.131645569620254]\n",
      "Female Chi-Square value: 3.93209329563274\n",
      "Male Chi-Square value: 4.073972950629798\n",
      "Mean Chi-Square value: 8.006066246262538\n",
      "Chi Square value: 8.0061\n",
      "We reject Null Hypothesis\n"
     ]
    }
   ],
   "source": [
    "#Program to do compute Chi-square value for calculation of dependency of education level and gender\n",
    "\n",
    "Female = [60,54,46,41] #Female row\n",
    "F_Total = 201 #Female Total\n",
    "Male = [40,44,53,57] #Male row\n",
    "M_Total = 194 #Male Total\n",
    "Total = [100,98,99,98] #Total of each column\n",
    "T_Total = 395 #Grand Total\n",
    "\n",
    "Female_Exp = [] #Expected female value\n",
    "Male_Exp = [] #Expected male value\n",
    "\n",
    "fval = 0 \n",
    "for i in Total:\n",
    "    fval = i*(F_Total/T_Total)\n",
    "    Female_Exp.append(fval)\n",
    "print(\"Expected value for females: \",Female_Exp)\n",
    "\n",
    "mval = 0\n",
    "for i in Total:\n",
    "    mval = i*(M_Total/T_Total)\n",
    "    Male_Exp.append(mval)\n",
    "print(\"Expected value for males: \",Male_Exp)\n",
    "\n",
    "f=m=0 #Chi-Square values to 0\n",
    "for i in range(0,4):\n",
    "    f+=pow((Female[i]-Female_Exp[i]),2)/Female_Exp[i]\n",
    "    m+=pow((Male[i]-Male_Exp[i]),2)/Male_Exp[i]\n",
    "\n",
    "print(\"Female Chi-Square value:\",f)\n",
    "print(\"Male Chi-Square value:\",m)\n",
    "print(\"Mean Chi-Square value:\",f+m)\n",
    "-----------------------------------------------------------------------------------------\n",
    "#Verification\n",
    "\n",
    "import scipy.stats as stats\n",
    "\n",
    "check = stats.chisquare((Female+Male),(fval+mval))\n",
    "\n",
    "lst = list(check)\n",
    "print(f\"Chi Square value: {round((f+m), 4)}\") #Checking through scipy stats\n",
    "\n",
    "if lst[1] > 0.05:\n",
    "    print(f\"We accept null hypothesis, since {round(lst[1], 5)} > 0.05\")\n",
    "else:\n",
    "    print(\"We reject null hypothesis\")"
   ]
  },
  {
   "cell_type": "code",
   "execution_count": null,
   "metadata": {},
   "outputs": [],
   "source": []
  }
 ],
 "metadata": {
  "kernelspec": {
   "display_name": "Python 3",
   "language": "python",
   "name": "python3"
  },
  "language_info": {
   "codemirror_mode": {
    "name": "ipython",
    "version": 3
   },
   "file_extension": ".py",
   "mimetype": "text/x-python",
   "name": "python",
   "nbconvert_exporter": "python",
   "pygments_lexer": "ipython3",
   "version": "3.6.9"
  }
 },
 "nbformat": 4,
 "nbformat_minor": 2
}
