{
 "cells": [
  {
   "cell_type": "code",
   "execution_count": 3,
   "metadata": {},
   "outputs": [
    {
     "name": "stdout",
     "output_type": "stream",
     "text": [
      "Correlation value = \n",
      "[[ 1.          0.72131472]\n",
      " [ 0.72131472  1.        ]]\n",
      "Pearsonr value:  [0.72131471804534497, 0.16902873603821766]\n",
      "Result: We reject Null Hypothesis\n"
     ]
    }
   ],
   "source": [
    "import numpy as np\n",
    "import scipy.stats as stats\n",
    "\n",
    "hand = [17,15,19,17,21]\n",
    "height = [150,154,169,172,175]\n",
    "\n",
    "print(f\"Correlation value = \\n{np.corrcoef(hand, height)}\")\n",
    "\n",
    "from scipy.stats import pearsonr \n",
    "l = list(pearsonr(hand, height))\n",
    "print(\"Pearsonr value: \", l)\n",
    "\n",
    "if l[1] > 0.05:\n",
    "    print(\"Result: We reject Null Hypothesis\")\n",
    "else:\n",
    "    print(\"Result: We accept Null Hypothesis\")"
   ]
  },
  {
   "cell_type": "code",
   "execution_count": null,
   "metadata": {},
   "outputs": [],
   "source": []
  }
 ],
 "metadata": {
  "kernelspec": {
   "display_name": "Python 3",
   "language": "python",
   "name": "python3"
  },
  "language_info": {
   "codemirror_mode": {
    "name": "ipython",
    "version": 3
   },
   "file_extension": ".py",
   "mimetype": "text/x-python",
   "name": "python",
   "nbconvert_exporter": "python",
   "pygments_lexer": "ipython3",
   "version": "3.6.9"
  }
 },
 "nbformat": 4,
 "nbformat_minor": 2
}
