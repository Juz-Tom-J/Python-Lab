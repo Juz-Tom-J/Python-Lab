{
 "cells": [
  {
   "cell_type": "code",
   "execution_count": 1,
   "id": "98c5d16f",
   "metadata": {},
   "outputs": [
    {
     "name": "stdout",
     "output_type": "stream",
     "text": [
      "Enter the number of which the multiplication table is to be displayed5\n",
      "5  X  1  =  5\n",
      "5  X  2  =  10\n",
      "5  X  3  =  15\n",
      "5  X  4  =  20\n",
      "5  X  5  =  25\n"
     ]
    }
   ],
   "source": [
    "n = int(input('Enter the number of which the multiplication table is to be displayed'))\n",
    "\n",
    "for i in range(1,n+1):\n",
    "    print(n,\" X \",i,\" = \",n*i)"
   ]
  },
  {
   "cell_type": "code",
   "execution_count": null,
   "id": "ca0d7822",
   "metadata": {},
   "outputs": [],
   "source": []
  }
 ],
 "metadata": {
  "kernelspec": {
   "display_name": "Python 3 (ipykernel)",
   "language": "python",
   "name": "python3"
  },
  "language_info": {
   "codemirror_mode": {
    "name": "ipython",
    "version": 3
   },
   "file_extension": ".py",
   "mimetype": "text/x-python",
   "name": "python",
   "nbconvert_exporter": "python",
   "pygments_lexer": "ipython3",
   "version": "3.10.5"
  }
 },
 "nbformat": 4,
 "nbformat_minor": 5
}
