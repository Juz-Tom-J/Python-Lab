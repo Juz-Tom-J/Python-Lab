{
 "cells": [
  {
   "cell_type": "code",
   "execution_count": 3,
   "id": "2fa8fa63",
   "metadata": {},
   "outputs": [
    {
     "name": "stdout",
     "output_type": "stream",
     "text": [
      "Number of words:  8\n",
      "Number of sentences:  1\n",
      "Number of uppercase letters:  1\n",
      "Number of lowercase letters:  43\n",
      "Number of special symbols:  0\n"
     ]
    }
   ],
   "source": [
    "f = open('word.txt', 'r+')\n",
    "\n",
    "upcase = lowcase = spcl_sym = sen = 0\n",
    "\n",
    "special = '!@#$%^&*()-+?_=,<>/\"'\n",
    "\n",
    "for w in f:\n",
    "    sen = w.split('.')\n",
    "    ws = w.split()\n",
    "   \n",
    "    for i in range(0, len(w)):\n",
    "        if w[i].isupper():\n",
    "            upcase+= 1\n",
    "           \n",
    "        elif w[i].islower():\n",
    "            lowcase+= 1\n",
    "           \n",
    "        elif w[i] in special:\n",
    "            spcl_sym+= 1\n",
    "           \n",
    "print(\"Number of words: \", len(ws))\n",
    "print(\"Number of sentences: \", len(sen)-1)\n",
    "print(\"Number of uppercase letters: \", upcase)\n",
    "print(\"Number of lowercase letters: \", lowcase)\n",
    "print(\"Number of special symbols: \", spcl_sym)\n",
    "f.close()"
   ]
  },
  {
   "cell_type": "code",
   "execution_count": null,
   "id": "736ff13d",
   "metadata": {},
   "outputs": [],
   "source": []
  },
  {
   "cell_type": "code",
   "execution_count": null,
   "id": "e3c86042",
   "metadata": {},
   "outputs": [],
   "source": []
  }
 ],
 "metadata": {
  "kernelspec": {
   "display_name": "Python 3 (ipykernel)",
   "language": "python",
   "name": "python3"
  },
  "language_info": {
   "codemirror_mode": {
    "name": "ipython",
    "version": 3
   },
   "file_extension": ".py",
   "mimetype": "text/x-python",
   "name": "python",
   "nbconvert_exporter": "python",
   "pygments_lexer": "ipython3",
   "version": "3.10.5"
  }
 },
 "nbformat": 4,
 "nbformat_minor": 5
}
