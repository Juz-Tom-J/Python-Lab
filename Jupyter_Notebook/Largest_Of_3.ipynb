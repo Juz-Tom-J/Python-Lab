{
 "cells": [
  {
   "cell_type": "code",
   "execution_count": null,
   "id": "4ae4932c",
   "metadata": {},
   "outputs": [],
   "source": [
    "a = int(input('Enter the 1st number: '))\n",
    "b = int(input('Enter the 2nd number: '))\n",
    "c = int(input('Enter the 3rd number: '))\n",
    "\n",
    "largest = 0\n",
    "\n",
    "if((a>b)and(a>c)):\n",
    "    largest = a\n",
    "\n",
    "elif((b>a)and(b>c)):\n",
    "    largest = b\n",
    "\n",
    "else:\n",
    "    largest = c\n",
    "    \n",
    "print('The largest number is: ',largest)"
   ]
  }
 ],
 "metadata": {
  "kernelspec": {
   "display_name": "Python 3 (ipykernel)",
   "language": "python",
   "name": "python3"
  },
  "language_info": {
   "codemirror_mode": {
    "name": "ipython",
    "version": 3
   },
   "file_extension": ".py",
   "mimetype": "text/x-python",
   "name": "python",
   "nbconvert_exporter": "python",
   "pygments_lexer": "ipython3",
   "version": "3.10.5"
  }
 },
 "nbformat": 4,
 "nbformat_minor": 5
}
