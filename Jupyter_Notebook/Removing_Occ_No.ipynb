{
 "cells": [
  {
   "cell_type": "code",
   "execution_count": 1,
   "id": "ef626407",
   "metadata": {},
   "outputs": [
    {
     "name": "stdout",
     "output_type": "stream",
     "text": [
      "Enter the number of elements in the list : 9\n",
      "Enter the element 1 : 1\n",
      "Enter the element 2 : 2\n",
      "Enter the element 3 : 3\n",
      "Enter the element 4 : 4\n",
      "Enter the element 5 : 5\n",
      "Enter the element 6 : 4\n",
      "Enter the element 7 : 3\n",
      "Enter the element 8 : 2\n",
      "Enter the element 9 : 1\n",
      "[1, 2, 3, 4, 5, 4, 3, 2, 1]\n",
      "Enter the element to be removed : 2\n",
      "New List : [1, 3, 4, 5, 4, 3, 1]\n"
     ]
    }
   ],
   "source": [
    "l=[]\n",
    "new_l=[]\n",
    "n = int(input(\"Enter the number of elements in the list : \"))\n",
    "for i in range(0,n):\n",
    "    print(\"Enter the element\",i+1,\":\",end = \" \")\n",
    "    l.append(int(input()))\n",
    "print(l)\n",
    "\n",
    "r = int(input(\"Enter the element to be removed : \"))\n",
    "for i in range(0,n):\n",
    "    if(l[i]!=r):\n",
    "        new_l.append(l[i])\n",
    "print(\"New List :\",new_l)"
   ]
  },
  {
   "cell_type": "code",
   "execution_count": null,
   "id": "0cc45d4b",
   "metadata": {},
   "outputs": [],
   "source": []
  }
 ],
 "metadata": {
  "kernelspec": {
   "display_name": "Python 3 (ipykernel)",
   "language": "python",
   "name": "python3"
  },
  "language_info": {
   "codemirror_mode": {
    "name": "ipython",
    "version": 3
   },
   "file_extension": ".py",
   "mimetype": "text/x-python",
   "name": "python",
   "nbconvert_exporter": "python",
   "pygments_lexer": "ipython3",
   "version": "3.10.5"
  }
 },
 "nbformat": 4,
 "nbformat_minor": 5
}
